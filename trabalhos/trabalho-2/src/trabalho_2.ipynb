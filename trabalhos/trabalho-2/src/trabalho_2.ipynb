{
 "cells": [
  {
   "cell_type": "markdown",
   "metadata": {},
   "source": [
    "# Equipe\n",
    "\n",
    "* Abner Lima\n",
    "* Marcos Vinícius\n",
    "* Luan Carvalho"
   ]
  },
  {
   "cell_type": "markdown",
   "metadata": {},
   "source": [
    "# Algoritmos de Classificação\n",
    "\n",
    "Um algoritmo de classificação pode ser usado quando possuímos um dataset com registros rotulados, ou seja, cada linha do dataset está relacionada com uma classe. Através dessa relação podemos aplicar algoritmos de aprendizagem supervisionada para conseguir prever qual será a classe de uma nova instância não classificada do mesmo domínio dos dados de treino. Essa previsão obedece uma certa taxa de acerto do modelo conhecida como acurácia.\n",
    "\n",
    "Abaixo apresentamos dois algoritmos de classificação bem simples baseados em neurônios artificiais. Pela simplicidade, esses algoritmos são capazes de classificar apenas conjuntos de dados linearmente separáveis, onde é possível traçar uma reta para separar os dados em classes."
   ]
  },
  {
   "cell_type": "markdown",
   "metadata": {},
   "source": [
    "# Classificador Perceptron\n",
    "\n",
    "## Definição\n",
    "\n",
    "Um Perceptron é um neurônio artificial que pode ser usado para resolver problemas de classificação com um dataset linearmente separável. O algoritmo de classificação do Perceptron é considerado de aprendizagem supervisionada, uma vez que ele precisa dos rótulos de cada instância de dado para poder executar corretamente.\n",
    "\n",
    "## Implementação\n",
    "\n",
    "Abaixo se encontra uma classe de implementação de um classificador Perceptron retirada do livro texto. Essa classe possui um método fit que é usado para treinar o modelo de classificação."
   ]
  },
  {
   "cell_type": "code",
   "execution_count": 27,
   "metadata": {},
   "outputs": [],
   "source": [
    "import numpy as np\n",
    "\n",
    "\n",
    "class Perceptron(object):\n",
    "    \"\"\"Perceptron classifier.\n",
    "\n",
    "    Parameters\n",
    "    ------------\n",
    "    eta : float\n",
    "      Learning rate (between 0.0 and 1.0)\n",
    "    n_iter : int\n",
    "      Passes over the training dataset.\n",
    "    random_state : int\n",
    "      Random number generator seed for random weight\n",
    "      initialization.\n",
    "\n",
    "    Attributes\n",
    "    -----------\n",
    "    w_ : 1d-array\n",
    "      Weights after fitting.\n",
    "    errors_ : list\n",
    "      Number of misclassifications (updates) in each epoch.\n",
    "\n",
    "    \"\"\"\n",
    "    def __init__(self, eta=0.01, n_iter=50, random_state=1):\n",
    "        self.eta = eta\n",
    "        self.n_iter = n_iter\n",
    "        self.random_state = random_state\n",
    "\n",
    "    def fit(self, X, y):\n",
    "        \"\"\"Fit training data.\n",
    "\n",
    "        Parameters\n",
    "        ----------\n",
    "        X : {array-like}, shape = [n_examples, n_features]\n",
    "          Training vectors, where n_examples is the number of examples and\n",
    "          n_features is the number of features.\n",
    "        y : array-like, shape = [n_examples]\n",
    "          Target values.\n",
    "\n",
    "        Returns\n",
    "        -------\n",
    "        self : object\n",
    "\n",
    "        \"\"\"\n",
    "        rgen = np.random.RandomState(self.random_state)\n",
    "        self.w_ = rgen.normal(loc=0.0, scale=0.01, size=1 + X.shape[1])\n",
    "        self.errors_ = []\n",
    "\n",
    "        for _ in range(self.n_iter):\n",
    "            errors = 0\n",
    "            for xi, target in zip(X, y):\n",
    "                update = self.eta * (target - self.predict(xi))\n",
    "                self.w_[1:] += update * xi\n",
    "                self.w_[0] += update\n",
    "                errors += int(update != 0.0)\n",
    "            self.errors_.append(errors)\n",
    "        return self\n",
    "\n",
    "    def net_input(self, X):\n",
    "        \"\"\"Calculate net input\"\"\"\n",
    "        return np.dot(X, self.w_[1:]) + self.w_[0]\n",
    "\n",
    "    def predict(self, X):\n",
    "        \"\"\"Return class label after unit step\"\"\"\n",
    "        return np.where(self.net_input(X) >= 0.0, 1, -1)"
   ]
  },
  {
   "cell_type": "markdown",
   "metadata": {},
   "source": [
    "# Neurônios Linearmente Adaptáveis (Adaline)\n",
    "\n",
    "## Definição\n",
    "\n",
    "O algoritmo Adaline é uma evolução do Perceptron, a principal diferença é que os neurônios são atualizados com base em uma função de ativação linear ao invés de uma função binária.\n",
    "\n",
    "## Implementação\n",
    "\n",
    "Abaixo temos a implementação de uma classe para treinar um modelo com algoritmo Adaline. Perceba que é bem semelhante à classe do Perceptron."
   ]
  },
  {
   "cell_type": "code",
   "execution_count": 28,
   "metadata": {},
   "outputs": [],
   "source": [
    "import numpy as np\n",
    "\n",
    "class Adaline(object):\n",
    "    \"\"\"Adaptative Linear Neuron Classifier\n",
    "    \n",
    "    Parameters\n",
    "    ---------------\n",
    "    eta: float\n",
    "        Learning rate (between 0.0 and 1.0)\n",
    "    n_iter: int\n",
    "        Passes over the training dataset.\n",
    "        \n",
    "    Attributes\n",
    "    ---------------\n",
    "    w_: ld-array\n",
    "        Weights after fitting\n",
    "    errors_: list\n",
    "        Number of misclassifications in every epoch\n",
    "    \"\"\"\n",
    "    \n",
    "    def __init__(self, eta=0.01, n_iter=50):\n",
    "        self.eta = eta\n",
    "        self.n_iter = n_iter\n",
    "        \n",
    "    def fit(self, X, y):\n",
    "        \"\"\"Fit training data\n",
    "        \n",
    "        Parameters\n",
    "        --------------\n",
    "        X : {array-like}, shape = [n_samples, n_features]\n",
    "            Training vectors,\n",
    "            where n_samples is the number of samples and n_features is the number of features\n",
    "        y : array-like, shape = [n_samples]\n",
    "            Target values\n",
    "            \n",
    "        Returns\n",
    "        --------------\n",
    "        self : object\n",
    "        \"\"\"\n",
    "        \n",
    "        self.w_ = np.zeros(1 + X.shape[1])\n",
    "        self.cost_ = []\n",
    "        \n",
    "        for i in range(self.n_iter):\n",
    "            output = self.net_input(X)\n",
    "            errors = (y - output)\n",
    "            self.w_[1:] += self.eta * X.T.dot(errors)\n",
    "            self.w_[0] += self.eta * errors.sum()\n",
    "            cost = (errors**2).sum() / 2.0\n",
    "            self.cost_.append(cost)\n",
    "        \n",
    "        return self\n",
    "    \n",
    "    def net_input(self, X):\n",
    "        \"\"\"Calculate Net Input\"\"\"\n",
    "        return np.dot(X, self.w_[1:]) + self.w_[0]\n",
    "    \n",
    "    def activation(self, X):\n",
    "        \"\"\"Compute Linear Activation\"\"\"\n",
    "        return self.net_input(X)\n",
    "    \n",
    "    def predict(self, X):\n",
    "        \"\"\"Return class label after unit step\"\"\"\n",
    "        return np.where(self.activation(X) >= 0.0, 1, -1)"
   ]
  },
  {
   "cell_type": "markdown",
   "metadata": {},
   "source": [
    "## Questão 1 - Implemente uma função para calcular a acurácia do modelo\n",
    "\n",
    "Para calcular a acurácia do nosso perceptron, podemos usar o método accuracy_score do scikit learn para comparar os labels previstos com os labels de teste, ou podemos criar nossa própria implementação, para isso basta identificar quantos labels foram previstos erroneamente do conjunto de dados de teste."
   ]
  },
  {
   "cell_type": "markdown",
   "metadata": {},
   "source": [
    "### a) Implementação usando scikit learn"
   ]
  },
  {
   "cell_type": "code",
   "execution_count": 29,
   "metadata": {},
   "outputs": [],
   "source": [
    "from sklearn.metrics import accuracy_score\n",
    "\n",
    "def calculate_accuracy(y_test, y_pred):\n",
    "    return accuracy_score(y_test, y_pred)"
   ]
  },
  {
   "cell_type": "markdown",
   "metadata": {},
   "source": [
    "### b) Implementação do cálculo da taxa de acerto"
   ]
  },
  {
   "cell_type": "code",
   "execution_count": 30,
   "metadata": {},
   "outputs": [],
   "source": [
    "def misclassification_error(y_test, y_pred):\n",
    "    return (y_test != y_pred).sum()"
   ]
  },
  {
   "cell_type": "markdown",
   "metadata": {},
   "source": [
    "## Questão 2 - Implemente um método de validação cruzada para testar o modelo\n",
    "\n",
    "Um método de validação cruzada serve para podermos separar o dataset de treino do dataset de teste e, assim, evitar que o modelo fique enviesado. O Scikit Learn também oferece uma função para fazermos validação cruzada, chamada de train_test_split. No exemplo abaixo, criamos uma função que separa 70% do dataset para treino e 30% para teste."
   ]
  },
  {
   "cell_type": "code",
   "execution_count": 31,
   "metadata": {},
   "outputs": [],
   "source": [
    "from sklearn.model_selection import train_test_split\n",
    "\n",
    "def separate_dataset(X, y):\n",
    "    return train_test_split(X, y, test_size=0.3, random_state=0)"
   ]
  },
  {
   "cell_type": "markdown",
   "metadata": {},
   "source": [
    "## Testando os classificadores\n",
    "\n",
    "Com a validação cruzada e os métodos de cálculo de acurácia prontos, podemos treinar os modelos para classificação usando datasets linearmente separáveis. Também é interessante notar como os algoritmos se comportam com datasets que não são linearmente separáveis. Escolhemos trabalhar com o iris dataset ao invés de criar um dataset sintético pois ele não é linearmente separável, assim podemos testar os dois casos.\n",
    "\n",
    "### 1. Carregar o dataset\n",
    "Para carregar o dataset podemos usar o pandas, que nos permite trabalhar com os dados em uma estrutura de dataframe que oferece vários métodos úteis de manipulação de dados."
   ]
  },
  {
   "cell_type": "code",
   "execution_count": 32,
   "metadata": {},
   "outputs": [
    {
     "data": {
      "text/html": [
       "<div>\n",
       "<style scoped>\n",
       "    .dataframe tbody tr th:only-of-type {\n",
       "        vertical-align: middle;\n",
       "    }\n",
       "\n",
       "    .dataframe tbody tr th {\n",
       "        vertical-align: top;\n",
       "    }\n",
       "\n",
       "    .dataframe thead th {\n",
       "        text-align: right;\n",
       "    }\n",
       "</style>\n",
       "<table border=\"1\" class=\"dataframe\">\n",
       "  <thead>\n",
       "    <tr style=\"text-align: right;\">\n",
       "      <th></th>\n",
       "      <th>SepalLengthCm</th>\n",
       "      <th>SepalWidthCm</th>\n",
       "      <th>PetalLengthCm</th>\n",
       "      <th>PetalWidthCm</th>\n",
       "      <th>Species</th>\n",
       "    </tr>\n",
       "  </thead>\n",
       "  <tbody>\n",
       "    <tr>\n",
       "      <th>0</th>\n",
       "      <td>5.1</td>\n",
       "      <td>3.5</td>\n",
       "      <td>1.4</td>\n",
       "      <td>0.2</td>\n",
       "      <td>Iris-setosa</td>\n",
       "    </tr>\n",
       "    <tr>\n",
       "      <th>1</th>\n",
       "      <td>4.9</td>\n",
       "      <td>3.0</td>\n",
       "      <td>1.4</td>\n",
       "      <td>0.2</td>\n",
       "      <td>Iris-setosa</td>\n",
       "    </tr>\n",
       "    <tr>\n",
       "      <th>2</th>\n",
       "      <td>4.7</td>\n",
       "      <td>3.2</td>\n",
       "      <td>1.3</td>\n",
       "      <td>0.2</td>\n",
       "      <td>Iris-setosa</td>\n",
       "    </tr>\n",
       "    <tr>\n",
       "      <th>3</th>\n",
       "      <td>4.6</td>\n",
       "      <td>3.1</td>\n",
       "      <td>1.5</td>\n",
       "      <td>0.2</td>\n",
       "      <td>Iris-setosa</td>\n",
       "    </tr>\n",
       "    <tr>\n",
       "      <th>4</th>\n",
       "      <td>5.0</td>\n",
       "      <td>3.6</td>\n",
       "      <td>1.4</td>\n",
       "      <td>0.2</td>\n",
       "      <td>Iris-setosa</td>\n",
       "    </tr>\n",
       "  </tbody>\n",
       "</table>\n",
       "</div>"
      ],
      "text/plain": [
       "   SepalLengthCm  SepalWidthCm  PetalLengthCm  PetalWidthCm      Species\n",
       "0            5.1           3.5            1.4           0.2  Iris-setosa\n",
       "1            4.9           3.0            1.4           0.2  Iris-setosa\n",
       "2            4.7           3.2            1.3           0.2  Iris-setosa\n",
       "3            4.6           3.1            1.5           0.2  Iris-setosa\n",
       "4            5.0           3.6            1.4           0.2  Iris-setosa"
      ]
     },
     "execution_count": 32,
     "metadata": {},
     "output_type": "execute_result"
    }
   ],
   "source": [
    "import pandas as pd\n",
    "\n",
    "df = pd.read_csv('iris_dataset.csv').drop(columns=['Id'])\n",
    "df.head()"
   ]
  },
  {
   "cell_type": "markdown",
   "metadata": {},
   "source": [
    "### 2. Selecionar Labels\n",
    "\n",
    "Como dito anteriormente, o classificador Perceptron só trabalha com dados linearmente separáveis, mas nosso dataset possui três labels, logo precisamos descartar uma label. Escolhemos trabalhar apenas com Iris Setosa e Iris Versicolor nesse exemplo. Através do gráfico abaixo podemos ver como as diferentes espécies se distribuem quando comparamos os comprimentos da sépala e da pétala de cada flor."
   ]
  },
  {
   "cell_type": "code",
   "execution_count": 33,
   "metadata": {},
   "outputs": [
    {
     "data": {
      "image/png": "[encoded data removed]",
      "text/plain": [
       "<Figure size 432x288 with 1 Axes>"
      ]
     },
     "metadata": {
      "needs_background": "light"
     },
     "output_type": "display_data"
    }
   ],
   "source": [
    "import matplotlib.pyplot as plt\n",
    "import numpy as np\n",
    "\n",
    "X = df.iloc[0:100, [0, 2]].values\n",
    "\n",
    "plt.scatter(X[0:50, 0], X[0:50, 1], color='red', marker='o', label='setosa')\n",
    "plt.scatter(X[50:100, 0], X[50:100, 1], color='blue', marker='x', label='versicolor')\n",
    "\n",
    "plt.xlabel('petal length [cm]')\n",
    "plt.ylabel('sepal length [cm]')\n",
    "plt.legend(loc='upper left')\n",
    "\n",
    "plt.show()"
   ]
  },
  {
   "cell_type": "markdown",
   "metadata": {},
   "source": [
    "### 3. Métodos Úteis\n",
    "\n",
    "Abaixo apresentamos um método para plotar regiões de decisão e outro para plotar a diminuição na taxa de erro do algoritmo no decorrer das épocas de execução."
   ]
  },
  {
   "cell_type": "code",
   "execution_count": 34,
   "metadata": {},
   "outputs": [],
   "source": [
    "from matplotlib.colors import ListedColormap\n",
    "\n",
    "def plot_decision_regions(X, y, classifier, resolution=0.02):\n",
    "    markers = ('s', 'x', 'o', '^', 'v')\n",
    "    colors = ('red', 'blue', 'lightgreen', 'gray', 'cian')\n",
    "    cmap = ListedColormap(colors[:len(np.unique(y))])\n",
    "    \n",
    "    x0_min, x0_max = X[:, 0].min() - 1, X[:, 0].max() + 1\n",
    "    x1_min, x1_max = X[:, 1].min() - 1, X[:, 1].max() + 1\n",
    "    xx0, xx1 = np.meshgrid(np.arange(x0_min, x0_max, resolution), \n",
    "                          np.arange(x1_min, x1_max, resolution))\n",
    "    \n",
    "    Z = classifier.predict(np.array([xx0.ravel(), xx1.ravel()]).T)\n",
    "    Z = Z.reshape(xx0.shape)\n",
    "    \n",
    "    plt.contourf(xx0, xx1, Z, alpha=0.4, cmap=cmap)\n",
    "    plt.xlim(xx0.min(), xx0.max())\n",
    "    plt.ylim(xx1.min(), xx1.max())\n",
    "    \n",
    "    for idx, cl in enumerate(np.unique(y)):\n",
    "        plt.scatter(x=X[y == cl, 0], y=X[y == cl, 1], alpha=0.8, color=cmap(idx), marker=markers[idx], label=cl)\n",
    "    plt.xlabel('sepal length [standard]')\n",
    "    plt.ylabel('petal length [standard]')\n",
    "    plt.legend(loc='upper left')\n",
    "    plt.show()\n",
    "        \n",
    "def plot_error_progression(ppn):\n",
    "    plt.plot(range(1, len(ppn.errors_) + 1), ppn.errors_, marker='o')\n",
    "    plt.xlabel('Epochs')\n",
    "    plt.ylabel('Number of misclassifications')\n",
    "    plt.show()\n",
    "    \n",
    "def plot_cost_progression(ada):\n",
    "    plt.plot(range(1, len(ada.cost_) + 1), ada.cost_, marker='o')\n",
    "    plt.xlabel('Epochs')\n",
    "    plt.ylabel('Sum-squared-error')\n",
    "    plt.show()"
   ]
  },
  {
   "cell_type": "markdown",
   "metadata": {},
   "source": [
    "### 4. Treinar o modelo\n",
    "\n",
    "Para treinarmos o modelo, basta criar uma instância do Perceptron, treiná-lo com dados de treino e, por fim testar o modelo com dados de teste. No exemplo abaixo, substituímos as ocorrências da classe Iris-setosa no dataset por 1, e quando a classe for diferente, substituímos por -1. Assim obtemos um dataset linearmente separável."
   ]
  },
  {
   "cell_type": "code",
   "execution_count": 35,
   "metadata": {},
   "outputs": [
    {
     "data": {
      "image/png": "[encoded data removed]",
      "text/plain": [
       "<Figure size 432x288 with 1 Axes>"
      ]
     },
     "metadata": {
      "needs_background": "light"
     },
     "output_type": "display_data"
    },
    {
     "data": {
      "image/png": "[encoded data removed]",
      "text/plain": [
       "<Figure size 432x288 with 1 Axes>"
      ]
     },
     "metadata": {
      "needs_background": "light"
     },
     "output_type": "display_data"
    }
   ],
   "source": [
    "from sklearn.preprocessing import StandardScaler\n",
    "\n",
    "y = df.iloc[0:100, 4].values\n",
    "y = np.where(y == 'Iris-setosa', -1, 1)\n",
    "\n",
    "X_train, X_test, y_train, y_test = separate_dataset(X, y)\n",
    "\n",
    "sc = StandardScaler()\n",
    "sc.fit(X_train)\n",
    "X_train_std = sc.transform(X_train)\n",
    "X_test_std = sc.transform(X_test)\n",
    "\n",
    "ppn = Perceptron(eta=0.1, n_iter=10)\n",
    "ppn.fit(X_train_std, y_train)\n",
    "\n",
    "plot_decision_regions(X_train_std, y_train, ppn)\n",
    "plot_error_progression(ppn)"
   ]
  },
  {
   "cell_type": "markdown",
   "metadata": {},
   "source": [
    "### 5. Medir Acurácia do Modelo\n",
    "\n",
    "Podemos usar os métodos criados na questão anterior para medir a acurácia do modelo com dados de teste."
   ]
  },
  {
   "cell_type": "code",
   "execution_count": 36,
   "metadata": {},
   "outputs": [
    {
     "name": "stdout",
     "output_type": "stream",
     "text": [
      "Acurácia: 1.00\n"
     ]
    }
   ],
   "source": [
    "y_pred = ppn.predict(X_test_std)\n",
    "accuracy = calculate_accuracy(y_test, y_pred)\n",
    "print('Acurácia: %.2f' % accuracy)"
   ]
  },
  {
   "cell_type": "code",
   "execution_count": 37,
   "metadata": {},
   "outputs": [
    {
     "name": "stdout",
     "output_type": "stream",
     "text": [
      "Taxa de erro de classificação: 0.00\n"
     ]
    }
   ],
   "source": [
    "error_rate = misclassification_error(y_test, y_pred)\n",
    "print('Taxa de erro de classificação: %.2f' % error_rate)"
   ]
  },
  {
   "cell_type": "markdown",
   "metadata": {},
   "source": [
    "### 6. Treinar o modelo com dados não-linearmente separáveis\n",
    "\n",
    "Podemos ver como o algoritmo de classificação do perceptron se comporta com dados não-linearmente separáveis, no nosso caso, o iris dataset pode ser utilizado."
   ]
  },
  {
   "cell_type": "code",
   "execution_count": 38,
   "metadata": {},
   "outputs": [
    {
     "data": {
      "image/png": "[encoded data removed]",
      "text/plain": [
       "<Figure size 432x288 with 1 Axes>"
      ]
     },
     "metadata": {
      "needs_background": "light"
     },
     "output_type": "display_data"
    },
    {
     "data": {
      "image/png": "[encoded data removed]",
      "text/plain": [
       "<Figure size 432x288 with 1 Axes>"
      ]
     },
     "metadata": {
      "needs_background": "light"
     },
     "output_type": "display_data"
    }
   ],
   "source": [
    "X = df.iloc[:, [0, 2]].values\n",
    "y = df.iloc[:, 4].values\n",
    "\n",
    "y = np.where(y == 'Iris-setosa', 1, np.where(y == 'Iris-versicolor', 2, 3))\n",
    "\n",
    "X_train, X_test, y_train, y_test = separate_dataset(X, y)\n",
    "\n",
    "sc = StandardScaler()\n",
    "sc.fit(X_train)\n",
    "X_train_std = sc.transform(X_train)\n",
    "X_test_std = sc.transform(X_test)\n",
    "\n",
    "ppn = Perceptron(eta=0.1, n_iter=10)\n",
    "ppn.fit(X_train_std, y_train)\n",
    "\n",
    "plot_decision_regions(X_train_std, y_train, ppn)\n",
    "plot_error_progression(ppn)"
   ]
  },
  {
   "cell_type": "markdown",
   "metadata": {},
   "source": [
    "Podemos perceber que o Perceptron não classifica corretamente o dataset e não diminui o erro a medida que as épocas passam.\n",
    "\n",
    "### 7. Medir acurácia do modelo com dados não-linearmente separáveis"
   ]
  },
  {
   "cell_type": "code",
   "execution_count": 39,
   "metadata": {},
   "outputs": [
    {
     "name": "stdout",
     "output_type": "stream",
     "text": [
      "Acurácia: 0.27\n"
     ]
    }
   ],
   "source": [
    "y_pred = ppn.predict(X_test_std)\n",
    "accuracy = calculate_accuracy(y_test, y_pred)\n",
    "print('Acurácia: %.2f' % accuracy)"
   ]
  },
  {
   "cell_type": "code",
   "execution_count": 40,
   "metadata": {},
   "outputs": [
    {
     "name": "stdout",
     "output_type": "stream",
     "text": [
      "Taxa de erro de classificação: 33.00\n"
     ]
    }
   ],
   "source": [
    "error_rate = misclassification_error(y_test, y_pred)\n",
    "print('Taxa de erro de classificação: %.2f' % error_rate)"
   ]
  }
 ],
 "metadata": {
  "kernelspec": {
   "display_name": "Python 3",
   "language": "python",
   "name": "python3"
  },
  "language_info": {
   "codemirror_mode": {
    "name": "ipython",
    "version": 3
   },
   "file_extension": ".py",
   "mimetype": "text/x-python",
   "name": "python",
   "nbconvert_exporter": "python",
   "pygments_lexer": "ipython3",
   "version": "3.8.5"
  }
 },
 "nbformat": 4,
 "nbformat_minor": 4
}
